{
 "cells": [
  {
   "cell_type": "code",
   "execution_count": 1,
   "metadata": {
    "execution": {
     "iopub.execute_input": "2021-08-08T21:09:55.188526Z",
     "iopub.status.busy": "2021-08-08T21:09:55.187866Z",
     "iopub.status.idle": "2021-08-08T21:09:56.052678Z",
     "shell.execute_reply": "2021-08-08T21:09:56.053256Z",
     "shell.execute_reply.started": "2021-08-08T21:09:20.138888Z"
    },
    "papermill": {
     "duration": 0.895808,
     "end_time": "2021-08-08T21:09:56.053590",
     "exception": false,
     "start_time": "2021-08-08T21:09:55.157782",
     "status": "completed"
    },
    "tags": []
   },
   "outputs": [],
   "source": [
    "import pandas as pd\n",
    "import numpy as np\n",
    "import matplotlib.pyplot as plt\n",
    "import seaborn as sns"
   ]
  },
  {
   "cell_type": "code",
   "execution_count": 2,
   "metadata": {
    "execution": {
     "iopub.execute_input": "2021-08-08T21:09:56.108902Z",
     "iopub.status.busy": "2021-08-08T21:09:56.108242Z",
     "iopub.status.idle": "2021-08-08T21:09:56.129578Z",
     "shell.execute_reply": "2021-08-08T21:09:56.130177Z",
     "shell.execute_reply.started": "2021-08-08T21:09:20.144987Z"
    },
    "papermill": {
     "duration": 0.050836,
     "end_time": "2021-08-08T21:09:56.130404",
     "exception": false,
     "start_time": "2021-08-08T21:09:56.079568",
     "status": "completed"
    },
    "tags": []
   },
   "outputs": [
    {
     "data": {
      "text/plain": [
       "(891, 12)"
      ]
     },
     "execution_count": 2,
     "metadata": {},
     "output_type": "execute_result"
    }
   ],
   "source": [
    "train_x = pd.read_csv('../input/titanic/train.csv')\n",
    "train = train_x\n",
    "train.shape"
   ]
  },
  {
   "cell_type": "code",
   "execution_count": 3,
   "metadata": {
    "execution": {
     "iopub.execute_input": "2021-08-08T21:09:56.186448Z",
     "iopub.status.busy": "2021-08-08T21:09:56.185754Z",
     "iopub.status.idle": "2021-08-08T21:09:56.218158Z",
     "shell.execute_reply": "2021-08-08T21:09:56.217591Z",
     "shell.execute_reply.started": "2021-08-08T21:09:20.174361Z"
    },
    "papermill": {
     "duration": 0.061197,
     "end_time": "2021-08-08T21:09:56.218310",
     "exception": false,
     "start_time": "2021-08-08T21:09:56.157113",
     "status": "completed"
    },
    "tags": []
   },
   "outputs": [
    {
     "data": {
      "text/html": [
       "<div>\n",
       "<style scoped>\n",
       "    .dataframe tbody tr th:only-of-type {\n",
       "        vertical-align: middle;\n",
       "    }\n",
       "\n",
       "    .dataframe tbody tr th {\n",
       "        vertical-align: top;\n",
       "    }\n",
       "\n",
       "    .dataframe thead th {\n",
       "        text-align: right;\n",
       "    }\n",
       "</style>\n",
       "<table border=\"1\" class=\"dataframe\">\n",
       "  <thead>\n",
       "    <tr style=\"text-align: right;\">\n",
       "      <th></th>\n",
       "      <th>PassengerId</th>\n",
       "      <th>Survived</th>\n",
       "      <th>Pclass</th>\n",
       "      <th>Name</th>\n",
       "      <th>Sex</th>\n",
       "      <th>Age</th>\n",
       "      <th>SibSp</th>\n",
       "      <th>Parch</th>\n",
       "      <th>Ticket</th>\n",
       "      <th>Fare</th>\n",
       "      <th>Cabin</th>\n",
       "      <th>Embarked</th>\n",
       "    </tr>\n",
       "  </thead>\n",
       "  <tbody>\n",
       "    <tr>\n",
       "      <th>0</th>\n",
       "      <td>1</td>\n",
       "      <td>0</td>\n",
       "      <td>3</td>\n",
       "      <td>Braund, Mr. Owen Harris</td>\n",
       "      <td>male</td>\n",
       "      <td>22.0</td>\n",
       "      <td>1</td>\n",
       "      <td>0</td>\n",
       "      <td>A/5 21171</td>\n",
       "      <td>7.2500</td>\n",
       "      <td>NaN</td>\n",
       "      <td>S</td>\n",
       "    </tr>\n",
       "    <tr>\n",
       "      <th>1</th>\n",
       "      <td>2</td>\n",
       "      <td>1</td>\n",
       "      <td>1</td>\n",
       "      <td>Cumings, Mrs. John Bradley (Florence Briggs Th...</td>\n",
       "      <td>female</td>\n",
       "      <td>38.0</td>\n",
       "      <td>1</td>\n",
       "      <td>0</td>\n",
       "      <td>PC 17599</td>\n",
       "      <td>71.2833</td>\n",
       "      <td>C85</td>\n",
       "      <td>C</td>\n",
       "    </tr>\n",
       "    <tr>\n",
       "      <th>2</th>\n",
       "      <td>3</td>\n",
       "      <td>1</td>\n",
       "      <td>3</td>\n",
       "      <td>Heikkinen, Miss. Laina</td>\n",
       "      <td>female</td>\n",
       "      <td>26.0</td>\n",
       "      <td>0</td>\n",
       "      <td>0</td>\n",
       "      <td>STON/O2. 3101282</td>\n",
       "      <td>7.9250</td>\n",
       "      <td>NaN</td>\n",
       "      <td>S</td>\n",
       "    </tr>\n",
       "    <tr>\n",
       "      <th>3</th>\n",
       "      <td>4</td>\n",
       "      <td>1</td>\n",
       "      <td>1</td>\n",
       "      <td>Futrelle, Mrs. Jacques Heath (Lily May Peel)</td>\n",
       "      <td>female</td>\n",
       "      <td>35.0</td>\n",
       "      <td>1</td>\n",
       "      <td>0</td>\n",
       "      <td>113803</td>\n",
       "      <td>53.1000</td>\n",
       "      <td>C123</td>\n",
       "      <td>S</td>\n",
       "    </tr>\n",
       "    <tr>\n",
       "      <th>4</th>\n",
       "      <td>5</td>\n",
       "      <td>0</td>\n",
       "      <td>3</td>\n",
       "      <td>Allen, Mr. William Henry</td>\n",
       "      <td>male</td>\n",
       "      <td>35.0</td>\n",
       "      <td>0</td>\n",
       "      <td>0</td>\n",
       "      <td>373450</td>\n",
       "      <td>8.0500</td>\n",
       "      <td>NaN</td>\n",
       "      <td>S</td>\n",
       "    </tr>\n",
       "  </tbody>\n",
       "</table>\n",
       "</div>"
      ],
      "text/plain": [
       "   PassengerId  Survived  Pclass  \\\n",
       "0            1         0       3   \n",
       "1            2         1       1   \n",
       "2            3         1       3   \n",
       "3            4         1       1   \n",
       "4            5         0       3   \n",
       "\n",
       "                                                Name     Sex   Age  SibSp  \\\n",
       "0                            Braund, Mr. Owen Harris    male  22.0      1   \n",
       "1  Cumings, Mrs. John Bradley (Florence Briggs Th...  female  38.0      1   \n",
       "2                             Heikkinen, Miss. Laina  female  26.0      0   \n",
       "3       Futrelle, Mrs. Jacques Heath (Lily May Peel)  female  35.0      1   \n",
       "4                           Allen, Mr. William Henry    male  35.0      0   \n",
       "\n",
       "   Parch            Ticket     Fare Cabin Embarked  \n",
       "0      0         A/5 21171   7.2500   NaN        S  \n",
       "1      0          PC 17599  71.2833   C85        C  \n",
       "2      0  STON/O2. 3101282   7.9250   NaN        S  \n",
       "3      0            113803  53.1000  C123        S  \n",
       "4      0            373450   8.0500   NaN        S  "
      ]
     },
     "execution_count": 3,
     "metadata": {},
     "output_type": "execute_result"
    }
   ],
   "source": [
    "train.head()"
   ]
  },
  {
   "cell_type": "code",
   "execution_count": 4,
   "metadata": {
    "execution": {
     "iopub.execute_input": "2021-08-08T21:09:56.280106Z",
     "iopub.status.busy": "2021-08-08T21:09:56.279458Z",
     "iopub.status.idle": "2021-08-08T21:09:56.295029Z",
     "shell.execute_reply": "2021-08-08T21:09:56.294398Z",
     "shell.execute_reply.started": "2021-08-08T21:09:20.194079Z"
    },
    "papermill": {
     "duration": 0.048673,
     "end_time": "2021-08-08T21:09:56.295196",
     "exception": false,
     "start_time": "2021-08-08T21:09:56.246523",
     "status": "completed"
    },
    "tags": []
   },
   "outputs": [
    {
     "name": "stdout",
     "output_type": "stream",
     "text": [
      "<class 'pandas.core.frame.DataFrame'>\n",
      "RangeIndex: 891 entries, 0 to 890\n",
      "Data columns (total 12 columns):\n",
      " #   Column       Non-Null Count  Dtype  \n",
      "---  ------       --------------  -----  \n",
      " 0   PassengerId  891 non-null    int64  \n",
      " 1   Survived     891 non-null    int64  \n",
      " 2   Pclass       891 non-null    int64  \n",
      " 3   Name         891 non-null    object \n",
      " 4   Sex          891 non-null    object \n",
      " 5   Age          714 non-null    float64\n",
      " 6   SibSp        891 non-null    int64  \n",
      " 7   Parch        891 non-null    int64  \n",
      " 8   Ticket       891 non-null    object \n",
      " 9   Fare         891 non-null    float64\n",
      " 10  Cabin        204 non-null    object \n",
      " 11  Embarked     889 non-null    object \n",
      "dtypes: float64(2), int64(5), object(5)\n",
      "memory usage: 83.7+ KB\n"
     ]
    }
   ],
   "source": [
    "train.info()"
   ]
  },
  {
   "cell_type": "code",
   "execution_count": 5,
   "metadata": {
    "execution": {
     "iopub.execute_input": "2021-08-08T21:09:56.361960Z",
     "iopub.status.busy": "2021-08-08T21:09:56.361178Z",
     "iopub.status.idle": "2021-08-08T21:09:56.392066Z",
     "shell.execute_reply": "2021-08-08T21:09:56.392623Z",
     "shell.execute_reply.started": "2021-08-08T21:09:20.215782Z"
    },
    "papermill": {
     "duration": 0.067354,
     "end_time": "2021-08-08T21:09:56.392832",
     "exception": false,
     "start_time": "2021-08-08T21:09:56.325478",
     "status": "completed"
    },
    "tags": []
   },
   "outputs": [
    {
     "data": {
      "text/html": [
       "<div>\n",
       "<style scoped>\n",
       "    .dataframe tbody tr th:only-of-type {\n",
       "        vertical-align: middle;\n",
       "    }\n",
       "\n",
       "    .dataframe tbody tr th {\n",
       "        vertical-align: top;\n",
       "    }\n",
       "\n",
       "    .dataframe thead th {\n",
       "        text-align: right;\n",
       "    }\n",
       "</style>\n",
       "<table border=\"1\" class=\"dataframe\">\n",
       "  <thead>\n",
       "    <tr style=\"text-align: right;\">\n",
       "      <th></th>\n",
       "      <th>PassengerId</th>\n",
       "      <th>Survived</th>\n",
       "      <th>Pclass</th>\n",
       "      <th>Age</th>\n",
       "      <th>SibSp</th>\n",
       "      <th>Parch</th>\n",
       "      <th>Fare</th>\n",
       "    </tr>\n",
       "  </thead>\n",
       "  <tbody>\n",
       "    <tr>\n",
       "      <th>count</th>\n",
       "      <td>891.000000</td>\n",
       "      <td>891.000000</td>\n",
       "      <td>891.000000</td>\n",
       "      <td>714.000000</td>\n",
       "      <td>891.000000</td>\n",
       "      <td>891.000000</td>\n",
       "      <td>891.000000</td>\n",
       "    </tr>\n",
       "    <tr>\n",
       "      <th>mean</th>\n",
       "      <td>446.000000</td>\n",
       "      <td>0.383838</td>\n",
       "      <td>2.308642</td>\n",
       "      <td>29.699118</td>\n",
       "      <td>0.523008</td>\n",
       "      <td>0.381594</td>\n",
       "      <td>32.204208</td>\n",
       "    </tr>\n",
       "    <tr>\n",
       "      <th>std</th>\n",
       "      <td>257.353842</td>\n",
       "      <td>0.486592</td>\n",
       "      <td>0.836071</td>\n",
       "      <td>14.526497</td>\n",
       "      <td>1.102743</td>\n",
       "      <td>0.806057</td>\n",
       "      <td>49.693429</td>\n",
       "    </tr>\n",
       "    <tr>\n",
       "      <th>min</th>\n",
       "      <td>1.000000</td>\n",
       "      <td>0.000000</td>\n",
       "      <td>1.000000</td>\n",
       "      <td>0.420000</td>\n",
       "      <td>0.000000</td>\n",
       "      <td>0.000000</td>\n",
       "      <td>0.000000</td>\n",
       "    </tr>\n",
       "    <tr>\n",
       "      <th>25%</th>\n",
       "      <td>223.500000</td>\n",
       "      <td>0.000000</td>\n",
       "      <td>2.000000</td>\n",
       "      <td>20.125000</td>\n",
       "      <td>0.000000</td>\n",
       "      <td>0.000000</td>\n",
       "      <td>7.910400</td>\n",
       "    </tr>\n",
       "    <tr>\n",
       "      <th>50%</th>\n",
       "      <td>446.000000</td>\n",
       "      <td>0.000000</td>\n",
       "      <td>3.000000</td>\n",
       "      <td>28.000000</td>\n",
       "      <td>0.000000</td>\n",
       "      <td>0.000000</td>\n",
       "      <td>14.454200</td>\n",
       "    </tr>\n",
       "    <tr>\n",
       "      <th>75%</th>\n",
       "      <td>668.500000</td>\n",
       "      <td>1.000000</td>\n",
       "      <td>3.000000</td>\n",
       "      <td>38.000000</td>\n",
       "      <td>1.000000</td>\n",
       "      <td>0.000000</td>\n",
       "      <td>31.000000</td>\n",
       "    </tr>\n",
       "    <tr>\n",
       "      <th>max</th>\n",
       "      <td>891.000000</td>\n",
       "      <td>1.000000</td>\n",
       "      <td>3.000000</td>\n",
       "      <td>80.000000</td>\n",
       "      <td>8.000000</td>\n",
       "      <td>6.000000</td>\n",
       "      <td>512.329200</td>\n",
       "    </tr>\n",
       "  </tbody>\n",
       "</table>\n",
       "</div>"
      ],
      "text/plain": [
       "       PassengerId    Survived      Pclass         Age       SibSp  \\\n",
       "count   891.000000  891.000000  891.000000  714.000000  891.000000   \n",
       "mean    446.000000    0.383838    2.308642   29.699118    0.523008   \n",
       "std     257.353842    0.486592    0.836071   14.526497    1.102743   \n",
       "min       1.000000    0.000000    1.000000    0.420000    0.000000   \n",
       "25%     223.500000    0.000000    2.000000   20.125000    0.000000   \n",
       "50%     446.000000    0.000000    3.000000   28.000000    0.000000   \n",
       "75%     668.500000    1.000000    3.000000   38.000000    1.000000   \n",
       "max     891.000000    1.000000    3.000000   80.000000    8.000000   \n",
       "\n",
       "            Parch        Fare  \n",
       "count  891.000000  891.000000  \n",
       "mean     0.381594   32.204208  \n",
       "std      0.806057   49.693429  \n",
       "min      0.000000    0.000000  \n",
       "25%      0.000000    7.910400  \n",
       "50%      0.000000   14.454200  \n",
       "75%      0.000000   31.000000  \n",
       "max      6.000000  512.329200  "
      ]
     },
     "execution_count": 5,
     "metadata": {},
     "output_type": "execute_result"
    }
   ],
   "source": [
    "train.describe()"
   ]
  },
  {
   "cell_type": "code",
   "execution_count": 6,
   "metadata": {
    "execution": {
     "iopub.execute_input": "2021-08-08T21:09:56.454462Z",
     "iopub.status.busy": "2021-08-08T21:09:56.453467Z",
     "iopub.status.idle": "2021-08-08T21:09:56.460728Z",
     "shell.execute_reply": "2021-08-08T21:09:56.461221Z",
     "shell.execute_reply.started": "2021-08-08T21:09:20.257821Z"
    },
    "papermill": {
     "duration": 0.038465,
     "end_time": "2021-08-08T21:09:56.461425",
     "exception": false,
     "start_time": "2021-08-08T21:09:56.422960",
     "status": "completed"
    },
    "tags": []
   },
   "outputs": [
    {
     "data": {
      "text/plain": [
       "0    549\n",
       "1    342\n",
       "Name: Survived, dtype: int64"
      ]
     },
     "execution_count": 6,
     "metadata": {},
     "output_type": "execute_result"
    }
   ],
   "source": [
    "train[\"Survived\"].value_counts()"
   ]
  },
  {
   "cell_type": "code",
   "execution_count": 7,
   "metadata": {
    "execution": {
     "iopub.execute_input": "2021-08-08T21:09:56.520939Z",
     "iopub.status.busy": "2021-08-08T21:09:56.520226Z",
     "iopub.status.idle": "2021-08-08T21:09:56.669550Z",
     "shell.execute_reply": "2021-08-08T21:09:56.668999Z",
     "shell.execute_reply.started": "2021-08-08T21:09:20.267406Z"
    },
    "papermill": {
     "duration": 0.180212,
     "end_time": "2021-08-08T21:09:56.669707",
     "exception": false,
     "start_time": "2021-08-08T21:09:56.489495",
     "status": "completed"
    },
    "tags": []
   },
   "outputs": [
    {
     "data": {
      "text/plain": [
       "<AxesSubplot:xlabel='Survived', ylabel='count'>"
      ]
     },
     "execution_count": 7,
     "metadata": {},
     "output_type": "execute_result"
    },
    {
     "data": {
      "image/png": "[encoded data removed]",
      "text/plain": [
       "<Figure size 432x288 with 1 Axes>"
      ]
     },
     "metadata": {
      "needs_background": "light"
     },
     "output_type": "display_data"
    }
   ],
   "source": [
    "sns.countplot(x='Survived', data=train)"
   ]
  },
  {
   "cell_type": "code",
   "execution_count": 8,
   "metadata": {
    "execution": {
     "iopub.execute_input": "2021-08-08T21:09:56.737258Z",
     "iopub.status.busy": "2021-08-08T21:09:56.732568Z",
     "iopub.status.idle": "2021-08-08T21:09:56.741611Z",
     "shell.execute_reply": "2021-08-08T21:09:56.742092Z",
     "shell.execute_reply.started": "2021-08-08T21:09:20.384249Z"
    },
    "papermill": {
     "duration": 0.043788,
     "end_time": "2021-08-08T21:09:56.742272",
     "exception": false,
     "start_time": "2021-08-08T21:09:56.698484",
     "status": "completed"
    },
    "tags": []
   },
   "outputs": [
    {
     "data": {
      "text/plain": [
       "Survived  Sex   \n",
       "0         female     81\n",
       "          male      468\n",
       "1         female    233\n",
       "          male      109\n",
       "Name: Survived, dtype: int64"
      ]
     },
     "execution_count": 8,
     "metadata": {},
     "output_type": "execute_result"
    }
   ],
   "source": [
    "train.groupby(['Survived','Sex'])['Survived'].count()"
   ]
  },
  {
   "cell_type": "code",
   "execution_count": 9,
   "metadata": {
    "execution": {
     "iopub.execute_input": "2021-08-08T21:09:56.809096Z",
     "iopub.status.busy": "2021-08-08T21:09:56.808209Z",
     "iopub.status.idle": "2021-08-08T21:09:57.128021Z",
     "shell.execute_reply": "2021-08-08T21:09:57.127339Z",
     "shell.execute_reply.started": "2021-08-08T21:09:20.395177Z"
    },
    "papermill": {
     "duration": 0.35667,
     "end_time": "2021-08-08T21:09:57.128169",
     "exception": false,
     "start_time": "2021-08-08T21:09:56.771499",
     "status": "completed"
    },
    "tags": []
   },
   "outputs": [
    {
     "data": {
      "text/plain": [
       "<seaborn.axisgrid.FacetGrid at 0x7fa45ef17190>"
      ]
     },
     "execution_count": 9,
     "metadata": {},
     "output_type": "execute_result"
    },
    {
     "data": {
      "image/png": "[encoded data removed]",
      "text/plain": [
       "<Figure size 720x360 with 2 Axes>"
      ]
     },
     "metadata": {
      "needs_background": "light"
     },
     "output_type": "display_data"
    }
   ],
   "source": [
    "sns.catplot(x='Sex', col='Survived', kind='count', data=train)"
   ]
  },
  {
   "cell_type": "markdown",
   "metadata": {
    "papermill": {
     "duration": 0.029339,
     "end_time": "2021-08-08T21:09:57.187495",
     "exception": false,
     "start_time": "2021-08-08T21:09:57.158156",
     "status": "completed"
    },
    "tags": []
   },
   "source": [
    "**Observation**\n",
    "1. Female more likely to survive than male"
   ]
  },
  {
   "cell_type": "code",
   "execution_count": 10,
   "metadata": {
    "execution": {
     "iopub.execute_input": "2021-08-08T21:09:57.252095Z",
     "iopub.status.busy": "2021-08-08T21:09:57.251302Z",
     "iopub.status.idle": "2021-08-08T21:09:57.260178Z",
     "shell.execute_reply": "2021-08-08T21:09:57.259637Z",
     "shell.execute_reply.started": "2021-08-08T21:09:20.684131Z"
    },
    "papermill": {
     "duration": 0.042979,
     "end_time": "2021-08-08T21:09:57.260320",
     "exception": false,
     "start_time": "2021-08-08T21:09:57.217341",
     "status": "completed"
    },
    "tags": []
   },
   "outputs": [
    {
     "data": {
      "text/plain": [
       "PassengerId    0.000000\n",
       "Survived       0.478523\n",
       "Pclass        -0.630548\n",
       "Age            0.389108\n",
       "SibSp          3.695352\n",
       "Parch          2.749117\n",
       "Fare           4.787317\n",
       "dtype: float64"
      ]
     },
     "execution_count": 10,
     "metadata": {},
     "output_type": "execute_result"
    }
   ],
   "source": [
    "train.skew()"
   ]
  },
  {
   "cell_type": "code",
   "execution_count": 11,
   "metadata": {
    "execution": {
     "iopub.execute_input": "2021-08-08T21:09:57.324576Z",
     "iopub.status.busy": "2021-08-08T21:09:57.323589Z",
     "iopub.status.idle": "2021-08-08T21:09:58.722657Z",
     "shell.execute_reply": "2021-08-08T21:09:58.723149Z",
     "shell.execute_reply.started": "2021-08-08T21:09:20.698134Z"
    },
    "papermill": {
     "duration": 1.432898,
     "end_time": "2021-08-08T21:09:58.723344",
     "exception": false,
     "start_time": "2021-08-08T21:09:57.290446",
     "status": "completed"
    },
    "tags": []
   },
   "outputs": [
    {
     "data": {
      "text/plain": [
       "array([[<AxesSubplot:title={'center':'PassengerId'}>,\n",
       "        <AxesSubplot:title={'center':'Survived'}>,\n",
       "        <AxesSubplot:title={'center':'Pclass'}>],\n",
       "       [<AxesSubplot:title={'center':'Age'}>,\n",
       "        <AxesSubplot:title={'center':'SibSp'}>,\n",
       "        <AxesSubplot:title={'center':'Parch'}>],\n",
       "       [<AxesSubplot:title={'center':'Fare'}>, <AxesSubplot:>,\n",
       "        <AxesSubplot:>]], dtype=object)"
      ]
     },
     "execution_count": 11,
     "metadata": {},
     "output_type": "execute_result"
    },
    {
     "data": {
      "image/png": "[encoded data removed]",
      "text/plain": [
       "<Figure size 1080x1080 with 9 Axes>"
      ]
     },
     "metadata": {
      "needs_background": "light"
     },
     "output_type": "display_data"
    }
   ],
   "source": [
    "train.hist(figsize=(15,15), layout=(3,3), bins=20)"
   ]
  },
  {
   "cell_type": "code",
   "execution_count": 12,
   "metadata": {
    "execution": {
     "iopub.execute_input": "2021-08-08T21:09:58.797075Z",
     "iopub.status.busy": "2021-08-08T21:09:58.796000Z",
     "iopub.status.idle": "2021-08-08T21:09:58.800708Z",
     "shell.execute_reply": "2021-08-08T21:09:58.801309Z",
     "shell.execute_reply.started": "2021-08-08T21:09:22.625071Z"
    },
    "papermill": {
     "duration": 0.044401,
     "end_time": "2021-08-08T21:09:58.801485",
     "exception": false,
     "start_time": "2021-08-08T21:09:58.757084",
     "status": "completed"
    },
    "tags": []
   },
   "outputs": [
    {
     "data": {
      "text/plain": [
       "PassengerId      0\n",
       "Survived         0\n",
       "Pclass           0\n",
       "Name             0\n",
       "Sex              0\n",
       "Age            177\n",
       "SibSp            0\n",
       "Parch            0\n",
       "Ticket           0\n",
       "Fare             0\n",
       "Cabin          687\n",
       "Embarked         2\n",
       "dtype: int64"
      ]
     },
     "execution_count": 12,
     "metadata": {},
     "output_type": "execute_result"
    }
   ],
   "source": [
    "train.isnull().sum()"
   ]
  },
  {
   "cell_type": "code",
   "execution_count": 13,
   "metadata": {
    "execution": {
     "iopub.execute_input": "2021-08-08T21:09:58.871314Z",
     "iopub.status.busy": "2021-08-08T21:09:58.870331Z",
     "iopub.status.idle": "2021-08-08T21:09:58.876382Z",
     "shell.execute_reply": "2021-08-08T21:09:58.877017Z",
     "shell.execute_reply.started": "2021-08-08T21:09:22.637651Z"
    },
    "papermill": {
     "duration": 0.043271,
     "end_time": "2021-08-08T21:09:58.877198",
     "exception": false,
     "start_time": "2021-08-08T21:09:58.833927",
     "status": "completed"
    },
    "tags": []
   },
   "outputs": [],
   "source": [
    "train.drop(['Cabin','PassengerId','Name', 'Ticket'],axis=1,inplace=True)"
   ]
  },
  {
   "cell_type": "code",
   "execution_count": 14,
   "metadata": {
    "execution": {
     "iopub.execute_input": "2021-08-08T21:09:58.948498Z",
     "iopub.status.busy": "2021-08-08T21:09:58.947524Z",
     "iopub.status.idle": "2021-08-08T21:09:58.956153Z",
     "shell.execute_reply": "2021-08-08T21:09:58.955610Z",
     "shell.execute_reply.started": "2021-08-08T21:09:22.649223Z"
    },
    "papermill": {
     "duration": 0.045475,
     "end_time": "2021-08-08T21:09:58.956321",
     "exception": false,
     "start_time": "2021-08-08T21:09:58.910846",
     "status": "completed"
    },
    "tags": []
   },
   "outputs": [],
   "source": [
    "train['Age']=train['Age'].fillna(train['Age'].mean())\n",
    "train['Embarked']=train['Embarked'].fillna(train['Embarked'].mode()[0])"
   ]
  },
  {
   "cell_type": "code",
   "execution_count": 15,
   "metadata": {
    "execution": {
     "iopub.execute_input": "2021-08-08T21:09:59.032069Z",
     "iopub.status.busy": "2021-08-08T21:09:59.031283Z",
     "iopub.status.idle": "2021-08-08T21:09:59.035380Z",
     "shell.execute_reply": "2021-08-08T21:09:59.034760Z",
     "shell.execute_reply.started": "2021-08-08T21:09:22.662240Z"
    },
    "papermill": {
     "duration": 0.045503,
     "end_time": "2021-08-08T21:09:59.035563",
     "exception": false,
     "start_time": "2021-08-08T21:09:58.990060",
     "status": "completed"
    },
    "tags": []
   },
   "outputs": [
    {
     "data": {
      "text/plain": [
       "Survived    0\n",
       "Pclass      0\n",
       "Sex         0\n",
       "Age         0\n",
       "SibSp       0\n",
       "Parch       0\n",
       "Fare        0\n",
       "Embarked    0\n",
       "dtype: int64"
      ]
     },
     "execution_count": 15,
     "metadata": {},
     "output_type": "execute_result"
    }
   ],
   "source": [
    "train.isnull().sum()"
   ]
  },
  {
   "cell_type": "code",
   "execution_count": 16,
   "metadata": {
    "execution": {
     "iopub.execute_input": "2021-08-08T21:09:59.111717Z",
     "iopub.status.busy": "2021-08-08T21:09:59.109734Z",
     "iopub.status.idle": "2021-08-08T21:09:59.562373Z",
     "shell.execute_reply": "2021-08-08T21:09:59.561859Z",
     "shell.execute_reply.started": "2021-08-08T21:09:22.677617Z"
    },
    "papermill": {
     "duration": 0.49158,
     "end_time": "2021-08-08T21:09:59.562534",
     "exception": false,
     "start_time": "2021-08-08T21:09:59.070954",
     "status": "completed"
    },
    "tags": []
   },
   "outputs": [
    {
     "data": {
      "text/plain": [
       "<AxesSubplot:>"
      ]
     },
     "execution_count": 16,
     "metadata": {},
     "output_type": "execute_result"
    },
    {
     "data": {
      "image/png": "[encoded data removed]",
      "text/plain": [
       "<Figure size 432x288 with 2 Axes>"
      ]
     },
     "metadata": {
      "needs_background": "light"
     },
     "output_type": "display_data"
    }
   ],
   "source": [
    "sns.heatmap(train.corr(), annot = True,cmap = 'coolwarm')"
   ]
  },
  {
   "cell_type": "markdown",
   "metadata": {
    "papermill": {
     "duration": 0.034742,
     "end_time": "2021-08-08T21:09:59.633425",
     "exception": false,
     "start_time": "2021-08-08T21:09:59.598683",
     "status": "completed"
    },
    "tags": []
   },
   "source": [
    "**Observation**\n",
    "1. Survived and Fare positively correlated.\n",
    "2. Survived and Pclass negatively correlated. SibSp and Parch positively correlated"
   ]
  },
  {
   "cell_type": "code",
   "execution_count": 17,
   "metadata": {
    "execution": {
     "iopub.execute_input": "2021-08-08T21:09:59.715345Z",
     "iopub.status.busy": "2021-08-08T21:09:59.714483Z",
     "iopub.status.idle": "2021-08-08T21:09:59.717509Z",
     "shell.execute_reply": "2021-08-08T21:09:59.716979Z",
     "shell.execute_reply.started": "2021-08-08T21:09:23.068057Z"
    },
    "papermill": {
     "duration": 0.049052,
     "end_time": "2021-08-08T21:09:59.717654",
     "exception": false,
     "start_time": "2021-08-08T21:09:59.668602",
     "status": "completed"
    },
    "tags": []
   },
   "outputs": [],
   "source": [
    "train = pd.get_dummies(train, columns=['Sex', 'Embarked', 'Pclass'], drop_first=True)"
   ]
  },
  {
   "cell_type": "code",
   "execution_count": 18,
   "metadata": {
    "execution": {
     "iopub.execute_input": "2021-08-08T21:09:59.792901Z",
     "iopub.status.busy": "2021-08-08T21:09:59.791970Z",
     "iopub.status.idle": "2021-08-08T21:09:59.806866Z",
     "shell.execute_reply": "2021-08-08T21:09:59.806168Z",
     "shell.execute_reply.started": "2021-08-08T21:09:23.081137Z"
    },
    "papermill": {
     "duration": 0.055498,
     "end_time": "2021-08-08T21:09:59.807030",
     "exception": false,
     "start_time": "2021-08-08T21:09:59.751532",
     "status": "completed"
    },
    "tags": []
   },
   "outputs": [
    {
     "data": {
      "text/plain": [
       "(418, 11)"
      ]
     },
     "execution_count": 18,
     "metadata": {},
     "output_type": "execute_result"
    }
   ],
   "source": [
    "test = pd.read_csv('../input/titanic/test.csv')\n",
    "test_x = test.copy()\n",
    "test.shape"
   ]
  },
  {
   "cell_type": "code",
   "execution_count": 19,
   "metadata": {
    "execution": {
     "iopub.execute_input": "2021-08-08T21:09:59.895710Z",
     "iopub.status.busy": "2021-08-08T21:09:59.894679Z",
     "iopub.status.idle": "2021-08-08T21:09:59.899641Z",
     "shell.execute_reply": "2021-08-08T21:09:59.898829Z",
     "shell.execute_reply.started": "2021-08-08T21:09:23.098451Z"
    },
    "papermill": {
     "duration": 0.058366,
     "end_time": "2021-08-08T21:09:59.899826",
     "exception": false,
     "start_time": "2021-08-08T21:09:59.841460",
     "status": "completed"
    },
    "tags": []
   },
   "outputs": [
    {
     "data": {
      "text/html": [
       "<div>\n",
       "<style scoped>\n",
       "    .dataframe tbody tr th:only-of-type {\n",
       "        vertical-align: middle;\n",
       "    }\n",
       "\n",
       "    .dataframe tbody tr th {\n",
       "        vertical-align: top;\n",
       "    }\n",
       "\n",
       "    .dataframe thead th {\n",
       "        text-align: right;\n",
       "    }\n",
       "</style>\n",
       "<table border=\"1\" class=\"dataframe\">\n",
       "  <thead>\n",
       "    <tr style=\"text-align: right;\">\n",
       "      <th></th>\n",
       "      <th>PassengerId</th>\n",
       "      <th>Pclass</th>\n",
       "      <th>Name</th>\n",
       "      <th>Sex</th>\n",
       "      <th>Age</th>\n",
       "      <th>SibSp</th>\n",
       "      <th>Parch</th>\n",
       "      <th>Ticket</th>\n",
       "      <th>Fare</th>\n",
       "      <th>Cabin</th>\n",
       "      <th>Embarked</th>\n",
       "    </tr>\n",
       "  </thead>\n",
       "  <tbody>\n",
       "    <tr>\n",
       "      <th>0</th>\n",
       "      <td>892</td>\n",
       "      <td>3</td>\n",
       "      <td>Kelly, Mr. James</td>\n",
       "      <td>male</td>\n",
       "      <td>34.5</td>\n",
       "      <td>0</td>\n",
       "      <td>0</td>\n",
       "      <td>330911</td>\n",
       "      <td>7.8292</td>\n",
       "      <td>NaN</td>\n",
       "      <td>Q</td>\n",
       "    </tr>\n",
       "    <tr>\n",
       "      <th>1</th>\n",
       "      <td>893</td>\n",
       "      <td>3</td>\n",
       "      <td>Wilkes, Mrs. James (Ellen Needs)</td>\n",
       "      <td>female</td>\n",
       "      <td>47.0</td>\n",
       "      <td>1</td>\n",
       "      <td>0</td>\n",
       "      <td>363272</td>\n",
       "      <td>7.0000</td>\n",
       "      <td>NaN</td>\n",
       "      <td>S</td>\n",
       "    </tr>\n",
       "    <tr>\n",
       "      <th>2</th>\n",
       "      <td>894</td>\n",
       "      <td>2</td>\n",
       "      <td>Myles, Mr. Thomas Francis</td>\n",
       "      <td>male</td>\n",
       "      <td>62.0</td>\n",
       "      <td>0</td>\n",
       "      <td>0</td>\n",
       "      <td>240276</td>\n",
       "      <td>9.6875</td>\n",
       "      <td>NaN</td>\n",
       "      <td>Q</td>\n",
       "    </tr>\n",
       "    <tr>\n",
       "      <th>3</th>\n",
       "      <td>895</td>\n",
       "      <td>3</td>\n",
       "      <td>Wirz, Mr. Albert</td>\n",
       "      <td>male</td>\n",
       "      <td>27.0</td>\n",
       "      <td>0</td>\n",
       "      <td>0</td>\n",
       "      <td>315154</td>\n",
       "      <td>8.6625</td>\n",
       "      <td>NaN</td>\n",
       "      <td>S</td>\n",
       "    </tr>\n",
       "    <tr>\n",
       "      <th>4</th>\n",
       "      <td>896</td>\n",
       "      <td>3</td>\n",
       "      <td>Hirvonen, Mrs. Alexander (Helga E Lindqvist)</td>\n",
       "      <td>female</td>\n",
       "      <td>22.0</td>\n",
       "      <td>1</td>\n",
       "      <td>1</td>\n",
       "      <td>3101298</td>\n",
       "      <td>12.2875</td>\n",
       "      <td>NaN</td>\n",
       "      <td>S</td>\n",
       "    </tr>\n",
       "  </tbody>\n",
       "</table>\n",
       "</div>"
      ],
      "text/plain": [
       "   PassengerId  Pclass                                          Name     Sex  \\\n",
       "0          892       3                              Kelly, Mr. James    male   \n",
       "1          893       3              Wilkes, Mrs. James (Ellen Needs)  female   \n",
       "2          894       2                     Myles, Mr. Thomas Francis    male   \n",
       "3          895       3                              Wirz, Mr. Albert    male   \n",
       "4          896       3  Hirvonen, Mrs. Alexander (Helga E Lindqvist)  female   \n",
       "\n",
       "    Age  SibSp  Parch   Ticket     Fare Cabin Embarked  \n",
       "0  34.5      0      0   330911   7.8292   NaN        Q  \n",
       "1  47.0      1      0   363272   7.0000   NaN        S  \n",
       "2  62.0      0      0   240276   9.6875   NaN        Q  \n",
       "3  27.0      0      0   315154   8.6625   NaN        S  \n",
       "4  22.0      1      1  3101298  12.2875   NaN        S  "
      ]
     },
     "execution_count": 19,
     "metadata": {},
     "output_type": "execute_result"
    }
   ],
   "source": [
    "test.head()"
   ]
  },
  {
   "cell_type": "code",
   "execution_count": 20,
   "metadata": {
    "execution": {
     "iopub.execute_input": "2021-08-08T21:09:59.981508Z",
     "iopub.status.busy": "2021-08-08T21:09:59.980556Z",
     "iopub.status.idle": "2021-08-08T21:09:59.984832Z",
     "shell.execute_reply": "2021-08-08T21:09:59.984318Z",
     "shell.execute_reply.started": "2021-08-08T21:09:23.118383Z"
    },
    "papermill": {
     "duration": 0.048358,
     "end_time": "2021-08-08T21:09:59.984981",
     "exception": false,
     "start_time": "2021-08-08T21:09:59.936623",
     "status": "completed"
    },
    "tags": []
   },
   "outputs": [
    {
     "data": {
      "text/plain": [
       "PassengerId      0\n",
       "Pclass           0\n",
       "Name             0\n",
       "Sex              0\n",
       "Age             86\n",
       "SibSp            0\n",
       "Parch            0\n",
       "Ticket           0\n",
       "Fare             1\n",
       "Cabin          327\n",
       "Embarked         0\n",
       "dtype: int64"
      ]
     },
     "execution_count": 20,
     "metadata": {},
     "output_type": "execute_result"
    }
   ],
   "source": [
    "test.isnull().sum()"
   ]
  },
  {
   "cell_type": "code",
   "execution_count": 21,
   "metadata": {
    "execution": {
     "iopub.execute_input": "2021-08-08T21:10:00.066687Z",
     "iopub.status.busy": "2021-08-08T21:10:00.065645Z",
     "iopub.status.idle": "2021-08-08T21:10:00.068932Z",
     "shell.execute_reply": "2021-08-08T21:10:00.068266Z",
     "shell.execute_reply.started": "2021-08-08T21:09:23.133023Z"
    },
    "papermill": {
     "duration": 0.047581,
     "end_time": "2021-08-08T21:10:00.069083",
     "exception": false,
     "start_time": "2021-08-08T21:10:00.021502",
     "status": "completed"
    },
    "tags": []
   },
   "outputs": [],
   "source": [
    "test['Age']=test['Age'].fillna(test['Age'].mean())\n",
    "test['Fare']=test['Fare'].fillna(test['Fare'].mode()[0])"
   ]
  },
  {
   "cell_type": "code",
   "execution_count": 22,
   "metadata": {
    "execution": {
     "iopub.execute_input": "2021-08-08T21:10:00.165156Z",
     "iopub.status.busy": "2021-08-08T21:10:00.164119Z",
     "iopub.status.idle": "2021-08-08T21:10:00.168724Z",
     "shell.execute_reply": "2021-08-08T21:10:00.168214Z",
     "shell.execute_reply.started": "2021-08-08T21:09:23.143458Z"
    },
    "papermill": {
     "duration": 0.061647,
     "end_time": "2021-08-08T21:10:00.168884",
     "exception": false,
     "start_time": "2021-08-08T21:10:00.107237",
     "status": "completed"
    },
    "tags": []
   },
   "outputs": [
    {
     "data": {
      "text/html": [
       "<div>\n",
       "<style scoped>\n",
       "    .dataframe tbody tr th:only-of-type {\n",
       "        vertical-align: middle;\n",
       "    }\n",
       "\n",
       "    .dataframe tbody tr th {\n",
       "        vertical-align: top;\n",
       "    }\n",
       "\n",
       "    .dataframe thead th {\n",
       "        text-align: right;\n",
       "    }\n",
       "</style>\n",
       "<table border=\"1\" class=\"dataframe\">\n",
       "  <thead>\n",
       "    <tr style=\"text-align: right;\">\n",
       "      <th></th>\n",
       "      <th>PassengerId</th>\n",
       "      <th>Pclass</th>\n",
       "      <th>Name</th>\n",
       "      <th>Sex</th>\n",
       "      <th>Age</th>\n",
       "      <th>SibSp</th>\n",
       "      <th>Parch</th>\n",
       "      <th>Ticket</th>\n",
       "      <th>Fare</th>\n",
       "      <th>Cabin</th>\n",
       "      <th>Embarked</th>\n",
       "    </tr>\n",
       "  </thead>\n",
       "  <tbody>\n",
       "    <tr>\n",
       "      <th>0</th>\n",
       "      <td>892</td>\n",
       "      <td>3</td>\n",
       "      <td>Kelly, Mr. James</td>\n",
       "      <td>male</td>\n",
       "      <td>34.5</td>\n",
       "      <td>0</td>\n",
       "      <td>0</td>\n",
       "      <td>330911</td>\n",
       "      <td>7.8292</td>\n",
       "      <td>NaN</td>\n",
       "      <td>Q</td>\n",
       "    </tr>\n",
       "    <tr>\n",
       "      <th>1</th>\n",
       "      <td>893</td>\n",
       "      <td>3</td>\n",
       "      <td>Wilkes, Mrs. James (Ellen Needs)</td>\n",
       "      <td>female</td>\n",
       "      <td>47.0</td>\n",
       "      <td>1</td>\n",
       "      <td>0</td>\n",
       "      <td>363272</td>\n",
       "      <td>7.0000</td>\n",
       "      <td>NaN</td>\n",
       "      <td>S</td>\n",
       "    </tr>\n",
       "    <tr>\n",
       "      <th>2</th>\n",
       "      <td>894</td>\n",
       "      <td>2</td>\n",
       "      <td>Myles, Mr. Thomas Francis</td>\n",
       "      <td>male</td>\n",
       "      <td>62.0</td>\n",
       "      <td>0</td>\n",
       "      <td>0</td>\n",
       "      <td>240276</td>\n",
       "      <td>9.6875</td>\n",
       "      <td>NaN</td>\n",
       "      <td>Q</td>\n",
       "    </tr>\n",
       "    <tr>\n",
       "      <th>3</th>\n",
       "      <td>895</td>\n",
       "      <td>3</td>\n",
       "      <td>Wirz, Mr. Albert</td>\n",
       "      <td>male</td>\n",
       "      <td>27.0</td>\n",
       "      <td>0</td>\n",
       "      <td>0</td>\n",
       "      <td>315154</td>\n",
       "      <td>8.6625</td>\n",
       "      <td>NaN</td>\n",
       "      <td>S</td>\n",
       "    </tr>\n",
       "    <tr>\n",
       "      <th>4</th>\n",
       "      <td>896</td>\n",
       "      <td>3</td>\n",
       "      <td>Hirvonen, Mrs. Alexander (Helga E Lindqvist)</td>\n",
       "      <td>female</td>\n",
       "      <td>22.0</td>\n",
       "      <td>1</td>\n",
       "      <td>1</td>\n",
       "      <td>3101298</td>\n",
       "      <td>12.2875</td>\n",
       "      <td>NaN</td>\n",
       "      <td>S</td>\n",
       "    </tr>\n",
       "  </tbody>\n",
       "</table>\n",
       "</div>"
      ],
      "text/plain": [
       "   PassengerId  Pclass                                          Name     Sex  \\\n",
       "0          892       3                              Kelly, Mr. James    male   \n",
       "1          893       3              Wilkes, Mrs. James (Ellen Needs)  female   \n",
       "2          894       2                     Myles, Mr. Thomas Francis    male   \n",
       "3          895       3                              Wirz, Mr. Albert    male   \n",
       "4          896       3  Hirvonen, Mrs. Alexander (Helga E Lindqvist)  female   \n",
       "\n",
       "    Age  SibSp  Parch   Ticket     Fare Cabin Embarked  \n",
       "0  34.5      0      0   330911   7.8292   NaN        Q  \n",
       "1  47.0      1      0   363272   7.0000   NaN        S  \n",
       "2  62.0      0      0   240276   9.6875   NaN        Q  \n",
       "3  27.0      0      0   315154   8.6625   NaN        S  \n",
       "4  22.0      1      1  3101298  12.2875   NaN        S  "
      ]
     },
     "execution_count": 22,
     "metadata": {},
     "output_type": "execute_result"
    }
   ],
   "source": [
    "test.head()"
   ]
  },
  {
   "cell_type": "code",
   "execution_count": 23,
   "metadata": {
    "execution": {
     "iopub.execute_input": "2021-08-08T21:10:00.251364Z",
     "iopub.status.busy": "2021-08-08T21:10:00.250348Z",
     "iopub.status.idle": "2021-08-08T21:10:00.254588Z",
     "shell.execute_reply": "2021-08-08T21:10:00.254105Z",
     "shell.execute_reply.started": "2021-08-08T21:09:23.170937Z"
    },
    "papermill": {
     "duration": 0.049111,
     "end_time": "2021-08-08T21:10:00.254735",
     "exception": false,
     "start_time": "2021-08-08T21:10:00.205624",
     "status": "completed"
    },
    "tags": []
   },
   "outputs": [
    {
     "data": {
      "text/plain": [
       "PassengerId      0\n",
       "Pclass           0\n",
       "Name             0\n",
       "Sex              0\n",
       "Age              0\n",
       "SibSp            0\n",
       "Parch            0\n",
       "Ticket           0\n",
       "Fare             0\n",
       "Cabin          327\n",
       "Embarked         0\n",
       "dtype: int64"
      ]
     },
     "execution_count": 23,
     "metadata": {},
     "output_type": "execute_result"
    }
   ],
   "source": [
    "test.isnull().sum()"
   ]
  },
  {
   "cell_type": "code",
   "execution_count": 24,
   "metadata": {
    "execution": {
     "iopub.execute_input": "2021-08-08T21:10:00.340112Z",
     "iopub.status.busy": "2021-08-08T21:10:00.339092Z",
     "iopub.status.idle": "2021-08-08T21:10:00.343318Z",
     "shell.execute_reply": "2021-08-08T21:10:00.342779Z",
     "shell.execute_reply.started": "2021-08-08T21:09:23.180566Z"
    },
    "papermill": {
     "duration": 0.051873,
     "end_time": "2021-08-08T21:10:00.343493",
     "exception": false,
     "start_time": "2021-08-08T21:10:00.291620",
     "status": "completed"
    },
    "tags": []
   },
   "outputs": [],
   "source": [
    "test.drop(['Cabin','PassengerId','Name', 'Ticket'],axis=1,inplace=True)\n",
    "test = pd.get_dummies(test, columns=['Sex', 'Embarked', 'Pclass'], drop_first=True)"
   ]
  },
  {
   "cell_type": "code",
   "execution_count": 25,
   "metadata": {
    "execution": {
     "iopub.execute_input": "2021-08-08T21:10:00.419033Z",
     "iopub.status.busy": "2021-08-08T21:10:00.418411Z",
     "iopub.status.idle": "2021-08-08T21:10:00.592510Z",
     "shell.execute_reply": "2021-08-08T21:10:00.591923Z",
     "shell.execute_reply.started": "2021-08-08T21:09:23.193126Z"
    },
    "papermill": {
     "duration": 0.2131,
     "end_time": "2021-08-08T21:10:00.592659",
     "exception": false,
     "start_time": "2021-08-08T21:10:00.379559",
     "status": "completed"
    },
    "tags": []
   },
   "outputs": [],
   "source": [
    "from sklearn.preprocessing import StandardScaler\n",
    "scaler = StandardScaler()\n",
    "\n",
    "# for train\n",
    "scaler.fit(train.drop('Survived',axis=1))\n",
    "scaled_features = scaler.transform(train.drop('Survived',axis=1))\n",
    "train_sc = pd.DataFrame(scaled_features, columns=train.columns[:-1])\n",
    "\n",
    "# for test\n",
    "scaler.fit(test)\n",
    "scaled_features = scaler.transform(test)\n",
    "test_sc = pd.DataFrame(scaled_features, columns=test.columns)"
   ]
  },
  {
   "cell_type": "code",
   "execution_count": 26,
   "metadata": {
    "execution": {
     "iopub.execute_input": "2021-08-08T21:10:00.682839Z",
     "iopub.status.busy": "2021-08-08T21:10:00.682195Z",
     "iopub.status.idle": "2021-08-08T21:10:00.685902Z",
     "shell.execute_reply": "2021-08-08T21:10:00.686458Z",
     "shell.execute_reply.started": "2021-08-08T21:09:23.217737Z"
    },
    "papermill": {
     "duration": 0.056459,
     "end_time": "2021-08-08T21:10:00.686637",
     "exception": false,
     "start_time": "2021-08-08T21:10:00.630178",
     "status": "completed"
    },
    "tags": []
   },
   "outputs": [
    {
     "data": {
      "text/html": [
       "<div>\n",
       "<style scoped>\n",
       "    .dataframe tbody tr th:only-of-type {\n",
       "        vertical-align: middle;\n",
       "    }\n",
       "\n",
       "    .dataframe tbody tr th {\n",
       "        vertical-align: top;\n",
       "    }\n",
       "\n",
       "    .dataframe thead th {\n",
       "        text-align: right;\n",
       "    }\n",
       "</style>\n",
       "<table border=\"1\" class=\"dataframe\">\n",
       "  <thead>\n",
       "    <tr style=\"text-align: right;\">\n",
       "      <th></th>\n",
       "      <th>Survived</th>\n",
       "      <th>Age</th>\n",
       "      <th>SibSp</th>\n",
       "      <th>Parch</th>\n",
       "      <th>Fare</th>\n",
       "      <th>Sex_male</th>\n",
       "      <th>Embarked_Q</th>\n",
       "      <th>Embarked_S</th>\n",
       "      <th>Pclass_2</th>\n",
       "    </tr>\n",
       "  </thead>\n",
       "  <tbody>\n",
       "    <tr>\n",
       "      <th>0</th>\n",
       "      <td>-0.592481</td>\n",
       "      <td>0.432793</td>\n",
       "      <td>-0.473674</td>\n",
       "      <td>-0.502445</td>\n",
       "      <td>0.737695</td>\n",
       "      <td>-0.307562</td>\n",
       "      <td>0.615838</td>\n",
       "      <td>-0.510152</td>\n",
       "      <td>0.902587</td>\n",
       "    </tr>\n",
       "    <tr>\n",
       "      <th>1</th>\n",
       "      <td>0.638789</td>\n",
       "      <td>0.432793</td>\n",
       "      <td>-0.473674</td>\n",
       "      <td>0.786845</td>\n",
       "      <td>-1.355574</td>\n",
       "      <td>-0.307562</td>\n",
       "      <td>-1.623803</td>\n",
       "      <td>-0.510152</td>\n",
       "      <td>-1.107926</td>\n",
       "    </tr>\n",
       "    <tr>\n",
       "      <th>2</th>\n",
       "      <td>-0.284663</td>\n",
       "      <td>-0.474545</td>\n",
       "      <td>-0.473674</td>\n",
       "      <td>-0.488854</td>\n",
       "      <td>-1.355574</td>\n",
       "      <td>-0.307562</td>\n",
       "      <td>0.615838</td>\n",
       "      <td>-0.510152</td>\n",
       "      <td>0.902587</td>\n",
       "    </tr>\n",
       "    <tr>\n",
       "      <th>3</th>\n",
       "      <td>0.407926</td>\n",
       "      <td>0.432793</td>\n",
       "      <td>-0.473674</td>\n",
       "      <td>0.420730</td>\n",
       "      <td>-1.355574</td>\n",
       "      <td>-0.307562</td>\n",
       "      <td>0.615838</td>\n",
       "      <td>-0.510152</td>\n",
       "      <td>-1.107926</td>\n",
       "    </tr>\n",
       "    <tr>\n",
       "      <th>4</th>\n",
       "      <td>0.407926</td>\n",
       "      <td>-0.474545</td>\n",
       "      <td>-0.473674</td>\n",
       "      <td>-0.486337</td>\n",
       "      <td>0.737695</td>\n",
       "      <td>-0.307562</td>\n",
       "      <td>0.615838</td>\n",
       "      <td>-0.510152</td>\n",
       "      <td>0.902587</td>\n",
       "    </tr>\n",
       "  </tbody>\n",
       "</table>\n",
       "</div>"
      ],
      "text/plain": [
       "   Survived       Age     SibSp     Parch      Fare  Sex_male  Embarked_Q  \\\n",
       "0 -0.592481  0.432793 -0.473674 -0.502445  0.737695 -0.307562    0.615838   \n",
       "1  0.638789  0.432793 -0.473674  0.786845 -1.355574 -0.307562   -1.623803   \n",
       "2 -0.284663 -0.474545 -0.473674 -0.488854 -1.355574 -0.307562    0.615838   \n",
       "3  0.407926  0.432793 -0.473674  0.420730 -1.355574 -0.307562    0.615838   \n",
       "4  0.407926 -0.474545 -0.473674 -0.486337  0.737695 -0.307562    0.615838   \n",
       "\n",
       "   Embarked_S  Pclass_2  \n",
       "0   -0.510152  0.902587  \n",
       "1   -0.510152 -1.107926  \n",
       "2   -0.510152  0.902587  \n",
       "3   -0.510152 -1.107926  \n",
       "4   -0.510152  0.902587  "
      ]
     },
     "execution_count": 26,
     "metadata": {},
     "output_type": "execute_result"
    }
   ],
   "source": [
    "train_sc.head()\n"
   ]
  },
  {
   "cell_type": "code",
   "execution_count": 27,
   "metadata": {
    "execution": {
     "iopub.execute_input": "2021-08-08T21:10:00.768033Z",
     "iopub.status.busy": "2021-08-08T21:10:00.766084Z",
     "iopub.status.idle": "2021-08-08T21:10:00.771499Z",
     "shell.execute_reply": "2021-08-08T21:10:00.771981Z",
     "shell.execute_reply.started": "2021-08-08T21:09:23.234808Z"
    },
    "papermill": {
     "duration": 0.047314,
     "end_time": "2021-08-08T21:10:00.772159",
     "exception": false,
     "start_time": "2021-08-08T21:10:00.724845",
     "status": "completed"
    },
    "tags": []
   },
   "outputs": [
    {
     "data": {
      "text/plain": [
       "(891, 9)"
      ]
     },
     "execution_count": 27,
     "metadata": {},
     "output_type": "execute_result"
    }
   ],
   "source": [
    "train_sc.shape"
   ]
  },
  {
   "cell_type": "code",
   "execution_count": 28,
   "metadata": {
    "execution": {
     "iopub.execute_input": "2021-08-08T21:10:00.852470Z",
     "iopub.status.busy": "2021-08-08T21:10:00.851333Z",
     "iopub.status.idle": "2021-08-08T21:10:00.855681Z",
     "shell.execute_reply": "2021-08-08T21:10:00.855075Z",
     "shell.execute_reply.started": "2021-08-08T21:09:23.247353Z"
    },
    "papermill": {
     "duration": 0.046379,
     "end_time": "2021-08-08T21:10:00.855839",
     "exception": false,
     "start_time": "2021-08-08T21:10:00.809460",
     "status": "completed"
    },
    "tags": []
   },
   "outputs": [
    {
     "data": {
      "text/plain": [
       "(891,)"
      ]
     },
     "execution_count": 28,
     "metadata": {},
     "output_type": "execute_result"
    }
   ],
   "source": [
    "y = train_x['Survived']\n",
    "y.shape"
   ]
  },
  {
   "cell_type": "code",
   "execution_count": 29,
   "metadata": {
    "execution": {
     "iopub.execute_input": "2021-08-08T21:10:00.935310Z",
     "iopub.status.busy": "2021-08-08T21:10:00.934685Z",
     "iopub.status.idle": "2021-08-08T21:10:00.996830Z",
     "shell.execute_reply": "2021-08-08T21:10:00.996141Z",
     "shell.execute_reply.started": "2021-08-08T21:09:23.260689Z"
    },
    "papermill": {
     "duration": 0.104128,
     "end_time": "2021-08-08T21:10:00.996982",
     "exception": false,
     "start_time": "2021-08-08T21:10:00.892854",
     "status": "completed"
    },
    "tags": []
   },
   "outputs": [],
   "source": [
    "from sklearn.model_selection import KFold\n",
    "from sklearn.model_selection import cross_val_score\n",
    "k_fold = KFold(n_splits=10, shuffle=True, random_state=0)"
   ]
  },
  {
   "cell_type": "code",
   "execution_count": 30,
   "metadata": {
    "execution": {
     "iopub.execute_input": "2021-08-08T21:10:01.086016Z",
     "iopub.status.busy": "2021-08-08T21:10:01.085184Z",
     "iopub.status.idle": "2021-08-08T21:10:04.576433Z",
     "shell.execute_reply": "2021-08-08T21:10:04.577012Z",
     "shell.execute_reply.started": "2021-08-08T21:09:23.270955Z"
    },
    "papermill": {
     "duration": 3.541902,
     "end_time": "2021-08-08T21:10:04.577192",
     "exception": false,
     "start_time": "2021-08-08T21:10:01.035290",
     "status": "completed"
    },
    "tags": []
   },
   "outputs": [
    {
     "name": "stdout",
     "output_type": "stream",
     "text": [
      "Accuracy of KNN 80.59\n",
      "Accuracy of SVC 82.49\n",
      "Accuracy of DTC 77.55\n",
      "Accuracy of RFC 81.03\n",
      "Accuracy of LR 80.36\n"
     ]
    }
   ],
   "source": [
    "\n",
    "from sklearn.neighbors import KNeighborsClassifier\n",
    "model1 = KNeighborsClassifier(n_neighbors=3)\n",
    "model1.fit(train_sc,y)\n",
    "scoring = \"accuracy\"\n",
    "score1 = cross_val_score(model1, train_sc, y, cv=k_fold, n_jobs=1, scoring=scoring)\n",
    "print('Accuracy of KNN',round(np.mean(score1)*100, 2))\n",
    "\n",
    "\n",
    "from sklearn.svm import SVC\n",
    "model2 = SVC()\n",
    "model2.fit(train_sc,y)\n",
    "scoring = \"accuracy\"\n",
    "score2 = cross_val_score(model2, train_sc, y, cv=k_fold, n_jobs=1, scoring=scoring)\n",
    "print('Accuracy of SVC',round(np.mean(score2)*100, 2))\n",
    "\n",
    "\n",
    "from sklearn.tree import DecisionTreeClassifier\n",
    "model3 = DecisionTreeClassifier(criterion='entropy',random_state=7)\n",
    "model3.fit(train_sc,y)\n",
    "scoring = \"accuracy\"\n",
    "score3 = cross_val_score(model3, train_sc, y, cv=k_fold, n_jobs=1, scoring=scoring)\n",
    "print('Accuracy of DTC',round(np.mean(score3)*100, 2))\n",
    "\n",
    "\n",
    "from sklearn.ensemble import RandomForestClassifier\n",
    "model4 = RandomForestClassifier(random_state=1)\n",
    "model4.fit(train_sc,y)\n",
    "scoring = \"accuracy\"\n",
    "score4 = cross_val_score(model4, train_sc, y, cv=k_fold, n_jobs=1, scoring=scoring)\n",
    "print('Accuracy of RFC',round(np.mean(score4)*100, 2))\n",
    "\n",
    "\n",
    "from sklearn.linear_model import LogisticRegression\n",
    "model4 = LogisticRegression()\n",
    "model4.fit(train_sc,y)\n",
    "scoring = \"accuracy\"\n",
    "score4 = cross_val_score(model4, train_sc, y, cv=k_fold, n_jobs=1, scoring=scoring)\n",
    "print('Accuracy of LR',round(np.mean(score4)*100, 2))"
   ]
  },
  {
   "cell_type": "code",
   "execution_count": 31,
   "metadata": {
    "execution": {
     "iopub.execute_input": "2021-08-08T21:10:04.660839Z",
     "iopub.status.busy": "2021-08-08T21:10:04.659785Z",
     "iopub.status.idle": "2021-08-08T21:10:04.664117Z",
     "shell.execute_reply": "2021-08-08T21:10:04.663479Z",
     "shell.execute_reply.started": "2021-08-08T21:09:26.556662Z"
    },
    "papermill": {
     "duration": 0.048287,
     "end_time": "2021-08-08T21:10:04.664266",
     "exception": false,
     "start_time": "2021-08-08T21:10:04.615979",
     "status": "completed"
    },
    "tags": []
   },
   "outputs": [
    {
     "data": {
      "text/plain": [
       "(891,)"
      ]
     },
     "execution_count": 31,
     "metadata": {},
     "output_type": "execute_result"
    }
   ],
   "source": [
    "y.shape"
   ]
  },
  {
   "cell_type": "code",
   "execution_count": 32,
   "metadata": {
    "execution": {
     "iopub.execute_input": "2021-08-08T21:10:04.748822Z",
     "iopub.status.busy": "2021-08-08T21:10:04.748000Z",
     "iopub.status.idle": "2021-08-08T21:10:04.764219Z",
     "shell.execute_reply": "2021-08-08T21:10:04.763564Z",
     "shell.execute_reply.started": "2021-08-08T21:09:26.565416Z"
    },
    "papermill": {
     "duration": 0.060987,
     "end_time": "2021-08-08T21:10:04.764366",
     "exception": false,
     "start_time": "2021-08-08T21:10:04.703379",
     "status": "completed"
    },
    "tags": []
   },
   "outputs": [
    {
     "data": {
      "text/plain": [
       "(418,)"
      ]
     },
     "execution_count": 32,
     "metadata": {},
     "output_type": "execute_result"
    }
   ],
   "source": [
    "#SVC gave us the best accuracy\n",
    "y_pred=model2.predict(test_sc)\n",
    "y_pred.shape"
   ]
  },
  {
   "cell_type": "code",
   "execution_count": 33,
   "metadata": {
    "execution": {
     "iopub.execute_input": "2021-08-08T21:10:04.847916Z",
     "iopub.status.busy": "2021-08-08T21:10:04.847232Z",
     "iopub.status.idle": "2021-08-08T21:10:04.854251Z",
     "shell.execute_reply": "2021-08-08T21:10:04.853568Z",
     "shell.execute_reply.started": "2021-08-08T21:09:26.588361Z"
    },
    "papermill": {
     "duration": 0.051259,
     "end_time": "2021-08-08T21:10:04.854419",
     "exception": false,
     "start_time": "2021-08-08T21:10:04.803160",
     "status": "completed"
    },
    "tags": []
   },
   "outputs": [],
   "source": [
    "submission = pd.DataFrame({\n",
    "    \"PassengerId\": test_x[\"PassengerId\"],\n",
    "    \"Survived\":y_pred\n",
    "})\n",
    "submission.to_csv('titanic.csv',index=False)"
   ]
  },
  {
   "cell_type": "code",
   "execution_count": 34,
   "metadata": {
    "execution": {
     "iopub.execute_input": "2021-08-08T21:10:04.942662Z",
     "iopub.status.busy": "2021-08-08T21:10:04.941695Z",
     "iopub.status.idle": "2021-08-08T21:10:04.946380Z",
     "shell.execute_reply": "2021-08-08T21:10:04.945839Z",
     "shell.execute_reply.started": "2021-08-08T21:09:26.597409Z"
    },
    "papermill": {
     "duration": 0.053,
     "end_time": "2021-08-08T21:10:04.946532",
     "exception": false,
     "start_time": "2021-08-08T21:10:04.893532",
     "status": "completed"
    },
    "tags": []
   },
   "outputs": [
    {
     "data": {
      "text/html": [
       "<div>\n",
       "<style scoped>\n",
       "    .dataframe tbody tr th:only-of-type {\n",
       "        vertical-align: middle;\n",
       "    }\n",
       "\n",
       "    .dataframe tbody tr th {\n",
       "        vertical-align: top;\n",
       "    }\n",
       "\n",
       "    .dataframe thead th {\n",
       "        text-align: right;\n",
       "    }\n",
       "</style>\n",
       "<table border=\"1\" class=\"dataframe\">\n",
       "  <thead>\n",
       "    <tr style=\"text-align: right;\">\n",
       "      <th></th>\n",
       "      <th>PassengerId</th>\n",
       "      <th>Survived</th>\n",
       "    </tr>\n",
       "  </thead>\n",
       "  <tbody>\n",
       "    <tr>\n",
       "      <th>0</th>\n",
       "      <td>892</td>\n",
       "      <td>0</td>\n",
       "    </tr>\n",
       "    <tr>\n",
       "      <th>1</th>\n",
       "      <td>893</td>\n",
       "      <td>0</td>\n",
       "    </tr>\n",
       "    <tr>\n",
       "      <th>2</th>\n",
       "      <td>894</td>\n",
       "      <td>0</td>\n",
       "    </tr>\n",
       "    <tr>\n",
       "      <th>3</th>\n",
       "      <td>895</td>\n",
       "      <td>0</td>\n",
       "    </tr>\n",
       "    <tr>\n",
       "      <th>4</th>\n",
       "      <td>896</td>\n",
       "      <td>0</td>\n",
       "    </tr>\n",
       "    <tr>\n",
       "      <th>...</th>\n",
       "      <td>...</td>\n",
       "      <td>...</td>\n",
       "    </tr>\n",
       "    <tr>\n",
       "      <th>413</th>\n",
       "      <td>1305</td>\n",
       "      <td>0</td>\n",
       "    </tr>\n",
       "    <tr>\n",
       "      <th>414</th>\n",
       "      <td>1306</td>\n",
       "      <td>1</td>\n",
       "    </tr>\n",
       "    <tr>\n",
       "      <th>415</th>\n",
       "      <td>1307</td>\n",
       "      <td>0</td>\n",
       "    </tr>\n",
       "    <tr>\n",
       "      <th>416</th>\n",
       "      <td>1308</td>\n",
       "      <td>0</td>\n",
       "    </tr>\n",
       "    <tr>\n",
       "      <th>417</th>\n",
       "      <td>1309</td>\n",
       "      <td>0</td>\n",
       "    </tr>\n",
       "  </tbody>\n",
       "</table>\n",
       "<p>418 rows × 2 columns</p>\n",
       "</div>"
      ],
      "text/plain": [
       "     PassengerId  Survived\n",
       "0            892         0\n",
       "1            893         0\n",
       "2            894         0\n",
       "3            895         0\n",
       "4            896         0\n",
       "..           ...       ...\n",
       "413         1305         0\n",
       "414         1306         1\n",
       "415         1307         0\n",
       "416         1308         0\n",
       "417         1309         0\n",
       "\n",
       "[418 rows x 2 columns]"
      ]
     },
     "execution_count": 34,
     "metadata": {},
     "output_type": "execute_result"
    }
   ],
   "source": [
    "submission"
   ]
  },
  {
   "cell_type": "code",
   "execution_count": null,
   "metadata": {
    "papermill": {
     "duration": 0.039025,
     "end_time": "2021-08-08T21:10:05.024769",
     "exception": false,
     "start_time": "2021-08-08T21:10:04.985744",
     "status": "completed"
    },
    "tags": []
   },
   "outputs": [],
   "source": []
  }
 ],
 "metadata": {
  "kernelspec": {
   "display_name": "Python 3",
   "language": "python",
   "name": "python3"
  },
  "language_info": {
   "codemirror_mode": {
    "name": "ipython",
    "version": 3
   },
   "file_extension": ".py",
   "mimetype": "text/x-python",
   "name": "python",
   "nbconvert_exporter": "python",
   "pygments_lexer": "ipython3",
   "version": "3.7.9"
  },
  "papermill": {
   "default_parameters": {},
   "duration": 16.267817,
   "end_time": "2021-08-08T21:10:05.773497",
   "environment_variables": {},
   "exception": null,
   "input_path": "__notebook__.ipynb",
   "output_path": "__notebook__.ipynb",
   "parameters": {},
   "start_time": "2021-08-08T21:09:49.505680",
   "version": "2.2.2"
  }
 },
 "nbformat": 4,
 "nbformat_minor": 4
}
